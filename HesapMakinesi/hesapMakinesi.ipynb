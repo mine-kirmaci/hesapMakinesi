{
 "cells": [
  {
   "cell_type": "code",
   "execution_count": 1,
   "metadata": {},
   "outputs": [
    {
     "ename": "UnboundLocalError",
     "evalue": "cannot access local variable 'sonuc' where it is not associated with a value",
     "output_type": "error",
     "traceback": [
      "\u001b[1;31m---------------------------------------------------------------------------\u001b[0m",
      "\u001b[1;31mUnboundLocalError\u001b[0m                         Traceback (most recent call last)",
      "Cell \u001b[1;32mIn[1], line 27\u001b[0m\n\u001b[0;32m     25\u001b[0m z\u001b[38;5;241m=\u001b[39m\u001b[38;5;28minput\u001b[39m(\u001b[38;5;124m\"\u001b[39m\u001b[38;5;124mİsaret giriniz: \u001b[39m\u001b[38;5;124m\"\u001b[39m)\n\u001b[0;32m     26\u001b[0m hesap_makinesi\u001b[38;5;241m=\u001b[39mHesapMakinesi(x,y,z)\n\u001b[1;32m---> 27\u001b[0m sonuc\u001b[38;5;241m=\u001b[39m\u001b[43mhesap_makinesi\u001b[49m\u001b[38;5;241;43m.\u001b[39;49m\u001b[43mhesapla\u001b[49m\u001b[43m(\u001b[49m\u001b[43m)\u001b[49m\n\u001b[0;32m     28\u001b[0m \u001b[38;5;28mprint\u001b[39m(sonuc)   \n\u001b[0;32m     29\u001b[0m su_an\u001b[38;5;241m=\u001b[39mdatetime\u001b[38;5;241m.\u001b[39mnow()\u001b[38;5;241m.\u001b[39mstrftime(\u001b[38;5;124m\"\u001b[39m\u001b[38;5;132;01m%d\u001b[39;00m\u001b[38;5;124m.\u001b[39m\u001b[38;5;124m%\u001b[39m\u001b[38;5;124mm.\u001b[39m\u001b[38;5;124m%\u001b[39m\u001b[38;5;124mY  \u001b[39m\u001b[38;5;124m%\u001b[39m\u001b[38;5;124mH:\u001b[39m\u001b[38;5;124m%\u001b[39m\u001b[38;5;124mH\u001b[39m\u001b[38;5;124m\"\u001b[39m)\n",
      "Cell \u001b[1;32mIn[1], line 20\u001b[0m, in \u001b[0;36mHesapMakinesi.hesapla\u001b[1;34m(self)\u001b[0m\n\u001b[0;32m     17\u001b[0m     \u001b[38;5;28;01melse\u001b[39;00m:\n\u001b[0;32m     18\u001b[0m         \u001b[38;5;28;01mreturn\u001b[39;00m dosya\u001b[38;5;241m.\u001b[39mwrite(\u001b[38;5;124m\"\u001b[39m\u001b[38;5;124mSıfıra bölme hatası\u001b[39m\u001b[38;5;124m\"\u001b[39m)\n\u001b[1;32m---> 20\u001b[0m \u001b[38;5;28;01mreturn\u001b[39;00m \u001b[43msonuc\u001b[49m\n",
      "\u001b[1;31mUnboundLocalError\u001b[0m: cannot access local variable 'sonuc' where it is not associated with a value"
     ]
    }
   ],
   "source": [
    "from datetime import datetime\n",
    "class HesapMakinesi:\n",
    "    def __init__(self,sayi1,sayi2,isaret):\n",
    "        self.sayi1=sayi1\n",
    "        self.sayi2=sayi2\n",
    "        self.isaret=isaret\n",
    "    def hesapla(self):\n",
    "        if self.isaret == '+':\n",
    "            sonuc = self.sayi1 + self.sayi2\n",
    "        elif self.isaret == '-':\n",
    "            sonuc = self.sayi1 - self.sayi2\n",
    "        elif self.isaret == '*':\n",
    "            sonuc = self.sayi1 * self.sayi2\n",
    "        elif self.isaret == '/':\n",
    "            if self.sayi2 != 0:\n",
    "                sonuc = self.sayi1 / self.sayi2\n",
    "            else:\n",
    "                return dosya.write(\"Sıfıra bölme hatası\")\n",
    "\n",
    "        return sonuc\n",
    "\n",
    "try:\n",
    "    x=float(input(\"1. Sayiyi gir: \"))\n",
    "    y=float(input(\"2. sayiyi gir: \"))\n",
    "    z=input(\"İsaret giriniz: \")\n",
    "    hesap_makinesi=HesapMakinesi(x,y,z)\n",
    "    sonuc=hesap_makinesi.hesapla()\n",
    "    print(sonuc)   \n",
    "    su_an=datetime.now().strftime(\"%d.%m.%Y  %H:%H\")\n",
    "    with open(\"hesapMakine.txt\",\"a\")as dosya:\n",
    "        dosya.write(f\"{su_an} {int(x)}{z}{int(y)}={sonuc}\\n\")\n",
    "except ValueError:\n",
    "    dosya.write(\"Hatali giris. Lütfen dogru formatta giriniz\")"
   ]
  }
 ],
 "metadata": {
  "kernelspec": {
   "display_name": "Python 3.12.1",
   "language": "python",
   "name": "myenv"
  },
  "language_info": {
   "codemirror_mode": {
    "name": "ipython",
    "version": 3
   },
   "file_extension": ".py",
   "mimetype": "text/x-python",
   "name": "python",
   "nbconvert_exporter": "python",
   "pygments_lexer": "ipython3",
   "version": "3.12.1"
  }
 },
 "nbformat": 4,
 "nbformat_minor": 2
}
